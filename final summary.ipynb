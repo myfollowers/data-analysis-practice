{
 "cells": [
  {
   "cell_type": "markdown",
   "metadata": {},
   "source": [
    "# 一、了解比赛背景及成绩评价准则\n",
    "* 背景 \n",
    "\n",
    "本次比赛是基于真实房租及其可能影响数据因素，通过建立模型来预测房租变化趋势，并得出影响房租的重要因素。\n",
    "* 评价准则、\n",
    "\n",
    "评价准则为模型结果的评价方式，即本次比赛中采用的R方，模型表现越好，则R方数值越大；除模型得分表现外，个人认为还应考虑模型实际落地的可能性，能否在实际应用中有一定的价值。"
   ]
  },
  {
   "cell_type": "markdown",
   "metadata": {},
   "source": [
    "# 二、对比赛数据做EDA\n",
    "* 缺失值分析\n",
    "* 特征分析\n",
    "* 是否有单调特征列\n",
    "* 特征nunique分布\n",
    "* 出现在测试集中的community，但是在训练集中数量较少\n",
    "* 统计特征值出现的频次大于100的特征\n",
    "* label分布\n",
    "* 不同的特征值的样本的label的分布\n"
   ]
  },
  {
   "cell_type": "markdown",
   "metadata": {},
   "source": [
    "# 三、数据清洗\n",
    "### 缺失值分析及处理\n",
    " \n",
    " * 缺失值出现的原因分析\n",
    " * 采取合适的方式对缺失值进行填充\n",
    " * 结合缺失值模式及属性分布、属性之间关系进行填充\n",
    " \n",
    "### 异常值分析及处理\n",
    " \n",
    " * 训练集与测试集保持同等分布，如属性个数、连续性数据分布、分类类数据label\n",
    " * 使用合适的方法找出异常值，比如模型拟合（孤立随机森林、单支持向量机）\n",
    " * 结合属性场景以及与目标变量房租之间的关系，对异常值进行处理\n",
    " \n",
    "###  深度清洗\n",
    " \n",
    " 分析每一个communityname、city、region、plate对房租影响特殊（主观感受）的数据分布并对其进行数据清洗\n",
    " * 主要思路分析\n",
    " \n",
    "     1.缺失值处理\n",
    "        缺失值的处理手段大体可以分为：删除、填充（插值、业务、统计规律）、映射到高维。\n",
    "     2.转换object类型数据\n",
    "        这里直接采用labelencode的方式编码。\n",
    "     3.时间字段的处理\n",
    "        拆分时间到更细的数据粒度，并删除原始时间属性\n",
    "     4.删除无关字段\n",
    "        id是唯一码，建模无用，直接删除;\n",
    "        city只有一个SH值，也直接删除;\n",
    "     异常值处理\n",
    "        主要针对area和trademoney两个维度处理\n",
    "        针对trademoney，这里采用的是isolationforest模型自动处理\n",
    "        针对areahetotalfloor是主观+数据可视化的方式得到的结果\n"
   ]
  },
  {
   "cell_type": "markdown",
   "metadata": {},
   "source": [
    "# 四、特征工程\n",
    "### 统计特征\n",
    "* 均值、中位数、方差、极值（最大、最小）、频率\n",
    "* 结合连续性变量与分类变量进行统计特征拆分、融合\n",
    "\n",
    "### 特征构造及变换\n",
    "* 特征拆分、特征合并、交叉生成特征、聚类特征、特征编码、过大量级取log平滑\n"
   ]
  },
  {
   "cell_type": "markdown",
   "metadata": {},
   "source": [
    "# 五、模型选择及融合\n",
    "* 线性加权\n",
    "* 交叉融合\n",
    "* stacking\n",
    "\n",
    "    模型选择及融合可同步进行，在选出基础模型之后，采用不同的方式对模型进行处理，以达到模型最好效果\n",
    "    \n",
    "    将特征放进模型中预测，并将预测结果作为新的特征加入原有的特征中再经过模型预测结果"
   ]
  }
 ],
 "metadata": {
  "kernelspec": {
   "display_name": "Python 3",
   "language": "python",
   "name": "python3"
  },
  "language_info": {
   "codemirror_mode": {
    "name": "ipython",
    "version": 3
   },
   "file_extension": ".py",
   "mimetype": "text/x-python",
   "name": "python",
   "nbconvert_exporter": "python",
   "pygments_lexer": "ipython3",
   "version": "3.7.3"
  }
 },
 "nbformat": 4,
 "nbformat_minor": 2
}
